{
 "cells": [
  {
   "cell_type": "code",
   "execution_count": 150,
   "id": "29936a5f-c742-4c70-9644-f7d121f700ce",
   "metadata": {},
   "outputs": [
    {
     "name": "stdout",
     "output_type": "stream",
     "text": [
      "cpu\n"
     ]
    }
   ],
   "source": [
    "import torch\n",
    "import torch.nn as nn\n",
    "from torch.nn import functional as F\n",
    "# use gpu for training, if there\n",
    "device = 'cuda' if torch.cuda.is_available() else 'cpu'\n",
    "print(device)\n",
    "\n",
    "# hyperparameters, important for training\n",
    "block_size = 8\n",
    "batch_size = 4\n",
    "max_iters = 2500\n",
    "\n",
    "learning_rate = 3e-4\n",
    "\n",
    "eval_iters = 250\n",
    "\n",
    "dropout = 0.2"
   ]
  },
  {
   "cell_type": "code",
   "execution_count": 113,
   "id": "0a7df7df-b989-4f17-a236-d54631926ae5",
   "metadata": {},
   "outputs": [
    {
     "name": "stdout",
     "output_type": "stream",
     "text": [
      "232309\n",
      "﻿  DOROTHY AND THE WIZARD IN OZ\n",
      "\n",
      "  BY\n",
      "\n",
      "  L. FRANK BAUM\n",
      "\n",
      "  AUTHOR OF THE WIZARD OF OZ, THE LAND OF OZ, OZMA OF OZ, ETC.\n",
      "\n",
      "  ILLUSTRATED BY JOHN R. NEILL\n",
      "\n",
      "  BOOKS OF WONDER WILLIAM MORROW & CO., INC. NEW\n"
     ]
    }
   ],
   "source": [
    "# get text\n",
    "\n",
    "with open('wizard_of_oz.txt', 'r', encoding='utf-8') as f:\n",
    "    text = f.read()\n",
    "print(len(text))\n",
    "print(text[:200])\n"
   ]
  },
  {
   "cell_type": "code",
   "execution_count": 114,
   "id": "63680d97-c4a9-494f-92ec-bd9bfd04b54d",
   "metadata": {},
   "outputs": [
    {
     "name": "stdout",
     "output_type": "stream",
     "text": [
      "['\\n', ' ', '!', '\"', '&', \"'\", '(', ')', '*', ',', '-', '.', '0', '1', '2', '3', '4', '5', '6', '7', '8', '9', ':', ';', '?', 'A', 'B', 'C', 'D', 'E', 'F', 'G', 'H', 'I', 'J', 'K', 'L', 'M', 'N', 'O', 'P', 'Q', 'R', 'S', 'T', 'U', 'V', 'W', 'X', 'Y', 'Z', '[', ']', '_', 'a', 'b', 'c', 'd', 'e', 'f', 'g', 'h', 'i', 'j', 'k', 'l', 'm', 'n', 'o', 'p', 'q', 'r', 's', 't', 'u', 'v', 'w', 'x', 'y', 'z', '\\ufeff']\n",
      "81\n"
     ]
    }
   ],
   "source": [
    "# make vocabulary from text\n",
    "\n",
    "chars = sorted(set(text))\n",
    "print(chars)\n",
    "print(len(chars))\n",
    "vocab_size = len(chars)"
   ]
  },
  {
   "cell_type": "code",
   "execution_count": 115,
   "id": "578e59bb-cc36-4c2f-86b4-1540f52fb556",
   "metadata": {},
   "outputs": [],
   "source": [
    "# initialize encoder and decoder\n",
    "\n",
    "string_to_int = { ch:i for i,ch in enumerate(chars) }\n",
    "int_to_string = { i:ch for i,ch in enumerate(chars) }\n",
    "encode = lambda s: [string_to_int[c] for c in s]\n",
    "decode = lambda l: ''.join([int_to_string[i] for i in l])\n",
    "\n"
   ]
  },
  {
   "cell_type": "code",
   "execution_count": 116,
   "id": "b9e623af-5936-4d36-9ee9-2204cfcd8efd",
   "metadata": {},
   "outputs": [
    {
     "name": "stdout",
     "output_type": "stream",
     "text": [
      "[61, 58, 65, 65, 68]\n",
      "hello\n"
     ]
    }
   ],
   "source": [
    "# encode, decode example\n",
    "\n",
    "print(encode('hello'))\n",
    "encoded_hello = encode('hello')\n",
    "decoded_hello = decode(encoded_hello)\n",
    "print(decoded_hello)"
   ]
  },
  {
   "cell_type": "code",
   "execution_count": 117,
   "id": "219a1bdc-c639-4b6f-bd28-d31802038146",
   "metadata": {},
   "outputs": [
    {
     "name": "stdout",
     "output_type": "stream",
     "text": [
      "tensor([80,  1,  1, 28, 39, 42, 39, 44, 32, 49,  1, 25, 38, 28,  1, 44, 32, 29,\n",
      "         1, 47, 33, 50, 25, 42, 28,  1, 33, 38,  1, 39, 50,  0,  0,  1,  1, 26,\n",
      "        49,  0,  0,  1,  1, 36, 11,  1, 30, 42, 25, 38, 35,  1, 26, 25, 45, 37,\n",
      "         0,  0,  1,  1, 25, 45, 44, 32, 39, 42,  1, 39, 30,  1, 44, 32, 29,  1,\n",
      "        47, 33, 50, 25, 42, 28,  1, 39, 30,  1, 39, 50,  9,  1, 44, 32, 29,  1,\n",
      "        36, 25, 38, 28,  1, 39, 30,  1, 39, 50])\n"
     ]
    }
   ],
   "source": [
    "# encode corpus\n",
    "\n",
    "data = torch.tensor(encode(text), dtype=torch.long)\n",
    "print(data[:100])"
   ]
  },
  {
   "cell_type": "code",
   "execution_count": 118,
   "id": "3e4de496-b5c0-453e-8a6c-991d7532db0e",
   "metadata": {},
   "outputs": [],
   "source": [
    "# get training, evaluation splits\n",
    "\n",
    "n = int(0.8*len(data))\n",
    "train_data = data[:n]\n",
    "val_data = data[n:]\n",
    "\n",
    "# based on the hyperparameters, get random blocks of data and batch them\n",
    "# into input and target tensors\n",
    "def get_batch(split):\n",
    "    data = train_data if split == 'train' else val_data\n",
    "    ix = torch.randint(len(data) - block_size, (batch_size,))\n",
    "    # print(ix)\n",
    "    x = torch.stack([data[i:i+block_size] for i in ix])\n",
    "    y = torch.stack([data[i+1:i+block_size+1] for i in ix])\n",
    "    # activate gpu, if available:\n",
    "    x, y = x.to(device),y.to(device)\n",
    "    return x, y"
   ]
  },
  {
   "cell_type": "code",
   "execution_count": 119,
   "id": "be3723e3-e799-4f9a-8151-ee874cd78bed",
   "metadata": {},
   "outputs": [
    {
     "name": "stdout",
     "output_type": "stream",
     "text": [
      "inputs:\n",
      "torch.Size([4, 8])\n",
      "tensor([[60, 72,  1, 73, 61, 58, 66, 72],\n",
      "        [ 1, 47, 62, 79, 54, 71, 57,  9],\n",
      "        [ 1, 69, 58, 71, 59, 74, 66, 58],\n",
      "        [54, 65, 64,  1, 72, 68,  1, 58]])\n",
      "targets:\n",
      "torch.Size([4, 8])\n",
      "tensor([[72,  1, 73, 61, 58, 66, 72, 58],\n",
      "        [47, 62, 79, 54, 71, 57,  9,  1],\n",
      "        [69, 58, 71, 59, 74, 66, 58,  1],\n",
      "        [65, 64,  1, 72, 68,  1, 58, 54]])\n"
     ]
    }
   ],
   "source": [
    "# execute the above function for training data to produce batches\n",
    "\n",
    "x, y = get_batch('train')\n",
    "print('inputs:')\n",
    "print(x.shape)\n",
    "print(x)\n",
    "print('targets:')\n",
    "print(y.shape)\n",
    "print(y)"
   ]
  },
  {
   "cell_type": "code",
   "execution_count": 120,
   "id": "897ae4cd-8529-46fe-85ec-02c2e64c8812",
   "metadata": {},
   "outputs": [],
   "source": [
    "@torch.no_grad()\n",
    "def estimate_loss():\n",
    "    out = {}\n",
    "    model.eval()\n",
    "    for split in ['train', 'val']:\n",
    "        losses = torch.zeros(eval_iters)\n",
    "        for k in range(eval_iters):\n",
    "            X, Y = get_batch(split)\n",
    "            logits, loss = model(X, Y)\n",
    "            losses[k] = loss.item()\n",
    "        out[split] = losses.mean()\n",
    "    model.train()\n",
    "    return out"
   ]
  },
  {
   "cell_type": "code",
   "execution_count": 121,
   "id": "9488a5af-c75c-40d0-a959-97545a2b370d",
   "metadata": {},
   "outputs": [
    {
     "name": "stdout",
     "output_type": "stream",
     "text": [
      "when input is tensor([80]) target is tensor(1)\n",
      "when input is tensor([80,  1]) target is tensor(1)\n",
      "when input is tensor([80,  1,  1]) target is tensor(28)\n",
      "when input is tensor([80,  1,  1, 28]) target is tensor(39)\n",
      "when input is tensor([80,  1,  1, 28, 39]) target is tensor(42)\n",
      "when input is tensor([80,  1,  1, 28, 39, 42]) target is tensor(39)\n",
      "when input is tensor([80,  1,  1, 28, 39, 42, 39]) target is tensor(44)\n",
      "when input is tensor([80,  1,  1, 28, 39, 42, 39, 44]) target is tensor(32)\n"
     ]
    }
   ],
   "source": [
    "# block_size = 8\n",
    "\n",
    "x = train_data[:block_size]\n",
    "y = train_data[1:block_size+1]\n",
    "\n",
    "for t in range(block_size):\n",
    "    context = x[:t+1]\n",
    "    target = y[t]\n",
    "    print('when input is', context, 'target is', target)"
   ]
  },
  {
   "cell_type": "code",
   "execution_count": 122,
   "id": "935e9f81-fe81-42aa-adc7-53c26f6174b4",
   "metadata": {},
   "outputs": [
    {
     "name": "stdout",
     "output_type": "stream",
     "text": [
      "\n",
      "EWKk.8x3RI1D﻿Y.8h n\"_l!'ZJI81E;AqIL﻿5EUX!BZpIM4f:?AMx\n",
      "&_tEw4hr&EfMhP3YlK3v*﻿zDyOb7pAkEw .8lHF_o5e(;*﻿6s)YsE7c'\",o(L_4&0[VGeivg!]'28s2Oc x]5,PAzbs)!2s)\n",
      "QP﻿(2.6SHsFtdLlz6s?AMAM147KlOxb)8\"Fa﻿D(x9BpLcZ5Q9u]u*wol?g[Tx4.Z?﻿Y0,PB9qH9jw\n",
      "RqyyeR2﻿3GtEvW*u7cF5&x_6fJ]Ng.jKl3:dlX-IOoBZz.8hjK7XbS\"9[3jD﻿'*Nnf9 N2x).8p'Fab0Ku*﻿4eCH&L,oU5EMSiFW57Klw vKZkyO!p:eOxQGwxFGyeDpB\n",
      ")SmLdwCoSKms,pxgm]:gnDP0icGLDn3i'D﻿6,XrqZJjkSYopw[VNR;Bpm?YV-[JP:nO:?O:\n",
      "Ud6&7uIxU[03C6G﻿w﻿3vj,L1z[3M-D[3T-]vHyp nx3ViW,IC2k73vIncGUq])-IJ[UR)\n"
     ]
    }
   ],
   "source": [
    "# create nn class as subclass of nn.Module\n",
    "\n",
    "class BigramLanguageModel(nn.Module):\n",
    "    def __init__(self, vocab_size):\n",
    "        super().__init__()\n",
    "        self.token_embedding_table = nn.Embedding(vocab_size, vocab_size)\n",
    "\n",
    "    def forward(self, index, targets=None):\n",
    "        logits = self.token_embedding_table(index)\n",
    "\n",
    "        if targets is None:\n",
    "            loss = None\n",
    "        else:\n",
    "            B, T, C = logits.shape\n",
    "            logits = logits.view(B*T, C)\n",
    "            targets = targets.view(B*T)\n",
    "            loss = F.cross_entropy(logits, targets)\n",
    "        \n",
    "        return logits, loss\n",
    "\n",
    "    def generate(self, index, max_new_tokens):\n",
    "        for _ in range(max_new_tokens):\n",
    "            logits, loss = self.forward(index)\n",
    "            logits = logits[:, -1, :]\n",
    "            probs = F.softmax(logits, dim=-1)\n",
    "            index_next = torch.multinomial(probs, num_samples=1)\n",
    "            index = torch.cat((index, index_next), dim=1)\n",
    "        return index\n",
    "\n",
    "model = BigramLanguageModel(vocab_size)\n",
    "m = model.to(device)\n",
    "\n",
    "context = torch.zeros((1,1), dtype=torch.long, device=device)\n",
    "generated_chars = decode(m.generate(context, max_new_tokens=500)[0].tolist())\n",
    "print(generated_chars)\n",
    "    \n",
    "    "
   ]
  },
  {
   "cell_type": "code",
   "execution_count": 145,
   "id": "6fb8a12e-2f67-45d1-8794-4f6f34ec82cb",
   "metadata": {
    "scrolled": true
   },
   "outputs": [
    {
     "name": "stdout",
     "output_type": "stream",
     "text": [
      "step: 0, train loss: 2.653 val loss: 2.689\n",
      "step: 250, train loss: 2.677 val loss: 2.707\n",
      "step: 500, train loss: 2.679 val loss: 2.682\n",
      "step: 750, train loss: 2.647 val loss: 2.679\n",
      "step: 1000, train loss: 2.638 val loss: 2.701\n",
      "step: 1250, train loss: 2.633 val loss: 2.668\n",
      "step: 1500, train loss: 2.630 val loss: 2.674\n",
      "step: 1750, train loss: 2.620 val loss: 2.666\n",
      "step: 2000, train loss: 2.622 val loss: 2.649\n",
      "step: 2250, train loss: 2.631 val loss: 2.626\n",
      "step: 2500, train loss: 2.608 val loss: 2.648\n",
      "step: 2750, train loss: 2.617 val loss: 2.625\n",
      "step: 3000, train loss: 2.591 val loss: 2.622\n",
      "step: 3250, train loss: 2.581 val loss: 2.644\n",
      "step: 3500, train loss: 2.599 val loss: 2.584\n",
      "step: 3750, train loss: 2.575 val loss: 2.593\n",
      "step: 4000, train loss: 2.553 val loss: 2.606\n",
      "step: 4250, train loss: 2.544 val loss: 2.590\n",
      "step: 4500, train loss: 2.598 val loss: 2.583\n",
      "step: 4750, train loss: 2.571 val loss: 2.593\n",
      "step: 5000, train loss: 2.543 val loss: 2.605\n",
      "step: 5250, train loss: 2.559 val loss: 2.610\n",
      "step: 5500, train loss: 2.541 val loss: 2.616\n",
      "step: 5750, train loss: 2.554 val loss: 2.622\n",
      "step: 6000, train loss: 2.579 val loss: 2.586\n",
      "step: 6250, train loss: 2.556 val loss: 2.592\n",
      "step: 6500, train loss: 2.576 val loss: 2.589\n",
      "step: 6750, train loss: 2.559 val loss: 2.572\n",
      "step: 7000, train loss: 2.544 val loss: 2.603\n",
      "step: 7250, train loss: 2.525 val loss: 2.600\n",
      "step: 7500, train loss: 2.540 val loss: 2.587\n",
      "step: 7750, train loss: 2.511 val loss: 2.563\n",
      "step: 8000, train loss: 2.549 val loss: 2.560\n",
      "step: 8250, train loss: 2.550 val loss: 2.550\n",
      "step: 8500, train loss: 2.517 val loss: 2.585\n",
      "step: 8750, train loss: 2.533 val loss: 2.546\n",
      "step: 9000, train loss: 2.534 val loss: 2.573\n",
      "step: 9250, train loss: 2.512 val loss: 2.557\n",
      "step: 9500, train loss: 2.521 val loss: 2.559\n",
      "step: 9750, train loss: 2.566 val loss: 2.571\n",
      "2.618116855621338\n"
     ]
    }
   ],
   "source": [
    "# create a PyTorch optimizer\n",
    "\n",
    "optimizer = torch.optim.AdamW(model.parameters(), lr=learning_rate)\n",
    "\n",
    "# training loop\n",
    "for iter in range(max_iters):\n",
    "    if iter % eval_iters == 0:\n",
    "        losses = estimate_loss()\n",
    "        print(f\"step: {iter}, train loss: {losses['train']:.3f} val loss: {losses['val']:.3f}\")\n",
    "     \n",
    "        \n",
    "    xb, yb  = get_batch('train')\n",
    "\n",
    "    logits, loss = model.forward(xb, yb)\n",
    "    optimizer.zero_grad(set_to_none=True)\n",
    "    loss.backward()\n",
    "    optimizer.step()\n",
    "print(loss.item())"
   ]
  },
  {
   "cell_type": "code",
   "execution_count": 149,
   "id": "165c9be8-cea9-4529-83d8-ab29928ec820",
   "metadata": {},
   "outputs": [
    {
     "name": "stdout",
     "output_type": "stream",
     "text": [
      "\n",
      "b ry hed d eLM35e ovKI(mpamprvBGLE﻿6ZJint t bllkil wfZy an fit igre ts gl iX;G6_ taly b,\" wancy beeaglpllapURJwampafo jjimak eard. wnd Tirind t,\n",
      "\n",
      "\n",
      "ce thoff ly FETEWEites. he by BORpo ck?X7Wushan ayasurere  thee ss othy mal ny dkORA*qme lll matry tout l and win Ewe thateehu tyeebou be othe mabev, th letecorey\n",
      "t Uis.\n",
      "\" I \"\n",
      "\n",
      "\"mbutacldunt at oAkS;ms a ttJitl?jN se, cafGOzl IChsthey woowh. thedif d\n",
      "\" wo\n",
      "n ithed fr ikAITh.\"Tomeelena are arandighe up, otrvour, aitankb subld win s, igothe d!S\"W\"Heireedo\n"
     ]
    }
   ],
   "source": [
    "context = torch.zeros((1,1), dtype=torch.long, device=device)\n",
    "generated_chars = decode(m.generate(context, max_new_tokens=500)[0].tolist())\n",
    "print(generated_chars)\n"
   ]
  },
  {
   "cell_type": "code",
   "execution_count": null,
   "id": "7dbd3de6-50a5-4e45-b0e8-f2fa30b63912",
   "metadata": {},
   "outputs": [],
   "source": []
  }
 ],
 "metadata": {
  "kernelspec": {
   "display_name": "cuda-gpt",
   "language": "python",
   "name": "cuda"
  },
  "language_info": {
   "codemirror_mode": {
    "name": "ipython",
    "version": 3
   },
   "file_extension": ".py",
   "mimetype": "text/x-python",
   "name": "python",
   "nbconvert_exporter": "python",
   "pygments_lexer": "ipython3",
   "version": "3.11.4"
  }
 },
 "nbformat": 4,
 "nbformat_minor": 5
}
