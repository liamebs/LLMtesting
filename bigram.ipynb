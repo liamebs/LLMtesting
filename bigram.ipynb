{
 "cells": [
  {
   "cell_type": "code",
   "execution_count": 2,
   "id": "29936a5f-c742-4c70-9644-f7d121f700ce",
   "metadata": {},
   "outputs": [
    {
     "name": "stdout",
     "output_type": "stream",
     "text": [
      "cpu\n"
     ]
    }
   ],
   "source": [
    "import torch\n",
    "import torch.nn as nn\n",
    "from torch.nn import functional as F\n",
    "# use gpu for training, if there\n",
    "device = 'cuda' if torch.cuda.is_available() else 'cpu'\n",
    "print(device)\n",
    "\n",
    "# hyperparameters, important for training\n",
    "block_size = 8\n",
    "batch_size = 4\n",
    "max_iters = 10000\n",
    "\n",
    "learning_rate = 3e-3\n",
    "\n",
    "eval_iters = 250\n",
    "\n",
    "dropout = 0.2"
   ]
  },
  {
   "cell_type": "code",
   "execution_count": 3,
   "id": "0a7df7df-b989-4f17-a236-d54631926ae5",
   "metadata": {},
   "outputs": [
    {
     "name": "stdout",
     "output_type": "stream",
     "text": [
      "232309\n",
      "﻿  DOROTHY AND THE WIZARD IN OZ\n",
      "\n",
      "  BY\n",
      "\n",
      "  L. FRANK BAUM\n",
      "\n",
      "  AUTHOR OF THE WIZARD OF OZ, THE LAND OF OZ, OZMA OF OZ, ETC.\n",
      "\n",
      "  ILLUSTRATED BY JOHN R. NEILL\n",
      "\n",
      "  BOOKS OF WONDER WILLIAM MORROW & CO., INC. NEW\n"
     ]
    }
   ],
   "source": [
    "# get text\n",
    "\n",
    "with open('wizard_of_oz.txt', 'r', encoding='utf-8') as f:\n",
    "    text = f.read()\n",
    "print(len(text))\n",
    "print(text[:200])\n"
   ]
  },
  {
   "cell_type": "code",
   "execution_count": 4,
   "id": "63680d97-c4a9-494f-92ec-bd9bfd04b54d",
   "metadata": {},
   "outputs": [
    {
     "name": "stdout",
     "output_type": "stream",
     "text": [
      "['\\n', ' ', '!', '\"', '&', \"'\", '(', ')', '*', ',', '-', '.', '0', '1', '2', '3', '4', '5', '6', '7', '8', '9', ':', ';', '?', 'A', 'B', 'C', 'D', 'E', 'F', 'G', 'H', 'I', 'J', 'K', 'L', 'M', 'N', 'O', 'P', 'Q', 'R', 'S', 'T', 'U', 'V', 'W', 'X', 'Y', 'Z', '[', ']', '_', 'a', 'b', 'c', 'd', 'e', 'f', 'g', 'h', 'i', 'j', 'k', 'l', 'm', 'n', 'o', 'p', 'q', 'r', 's', 't', 'u', 'v', 'w', 'x', 'y', 'z', '\\ufeff']\n",
      "81\n"
     ]
    }
   ],
   "source": [
    "# make vocabulary from text\n",
    "\n",
    "chars = sorted(set(text))\n",
    "print(chars)\n",
    "print(len(chars))\n",
    "vocab_size = len(chars)"
   ]
  },
  {
   "cell_type": "code",
   "execution_count": 5,
   "id": "578e59bb-cc36-4c2f-86b4-1540f52fb556",
   "metadata": {},
   "outputs": [],
   "source": [
    "# initialize encoder and decoder\n",
    "\n",
    "string_to_int = { ch:i for i,ch in enumerate(chars) }\n",
    "int_to_string = { i:ch for i,ch in enumerate(chars) }\n",
    "encode = lambda s: [string_to_int[c] for c in s]\n",
    "decode = lambda l: ''.join([int_to_string[i] for i in l])\n",
    "\n"
   ]
  },
  {
   "cell_type": "code",
   "execution_count": 6,
   "id": "b9e623af-5936-4d36-9ee9-2204cfcd8efd",
   "metadata": {},
   "outputs": [
    {
     "name": "stdout",
     "output_type": "stream",
     "text": [
      "[61, 58, 65, 65, 68]\n",
      "hello\n"
     ]
    }
   ],
   "source": [
    "# encode, decode example\n",
    "\n",
    "print(encode('hello'))\n",
    "encoded_hello = encode('hello')\n",
    "decoded_hello = decode(encoded_hello)\n",
    "print(decoded_hello)"
   ]
  },
  {
   "cell_type": "code",
   "execution_count": 7,
   "id": "219a1bdc-c639-4b6f-bd28-d31802038146",
   "metadata": {},
   "outputs": [
    {
     "name": "stdout",
     "output_type": "stream",
     "text": [
      "tensor([80,  1,  1, 28, 39, 42, 39, 44, 32, 49,  1, 25, 38, 28,  1, 44, 32, 29,\n",
      "         1, 47, 33, 50, 25, 42, 28,  1, 33, 38,  1, 39, 50,  0,  0,  1,  1, 26,\n",
      "        49,  0,  0,  1,  1, 36, 11,  1, 30, 42, 25, 38, 35,  1, 26, 25, 45, 37,\n",
      "         0,  0,  1,  1, 25, 45, 44, 32, 39, 42,  1, 39, 30,  1, 44, 32, 29,  1,\n",
      "        47, 33, 50, 25, 42, 28,  1, 39, 30,  1, 39, 50,  9,  1, 44, 32, 29,  1,\n",
      "        36, 25, 38, 28,  1, 39, 30,  1, 39, 50])\n"
     ]
    }
   ],
   "source": [
    "# encode corpus\n",
    "\n",
    "data = torch.tensor(encode(text), dtype=torch.long)\n",
    "print(data[:100])"
   ]
  },
  {
   "cell_type": "code",
   "execution_count": 8,
   "id": "3e4de496-b5c0-453e-8a6c-991d7532db0e",
   "metadata": {},
   "outputs": [],
   "source": [
    "# get training, evaluation splits\n",
    "\n",
    "n = int(0.8*len(data))\n",
    "train_data = data[:n]\n",
    "val_data = data[n:]\n",
    "\n",
    "# based on the hyperparameters, get random blocks of data and batch them\n",
    "# into input and target tensors\n",
    "def get_batch(split):\n",
    "    data = train_data if split == 'train' else val_data\n",
    "    ix = torch.randint(len(data) - block_size, (batch_size,))\n",
    "    # print(ix)\n",
    "    x = torch.stack([data[i:i+block_size] for i in ix])\n",
    "    y = torch.stack([data[i+1:i+block_size+1] for i in ix])\n",
    "    # activate gpu, if available:\n",
    "    x, y = x.to(device),y.to(device)\n",
    "    return x, y"
   ]
  },
  {
   "cell_type": "code",
   "execution_count": 9,
   "id": "be3723e3-e799-4f9a-8151-ee874cd78bed",
   "metadata": {},
   "outputs": [
    {
     "name": "stdout",
     "output_type": "stream",
     "text": [
      "inputs:\n",
      "torch.Size([4, 8])\n",
      "tensor([[65, 62, 75, 58,  1, 68, 67,  0],\n",
      "        [77, 62, 73, 78,  9,  1, 54, 67],\n",
      "        [65,  1, 59, 71, 62, 58, 67, 57],\n",
      "        [49, 58, 72, 23,  1, 76, 62, 73]])\n",
      "targets:\n",
      "torch.Size([4, 8])\n",
      "tensor([[62, 75, 58,  1, 68, 67,  0, 73],\n",
      "        [62, 73, 78,  9,  1, 54, 67, 72],\n",
      "        [ 1, 59, 71, 62, 58, 67, 57, 72],\n",
      "        [58, 72, 23,  1, 76, 62, 73, 61]])\n"
     ]
    }
   ],
   "source": [
    "# execute the above function for training data to produce batches\n",
    "\n",
    "x, y = get_batch('train')\n",
    "print('inputs:')\n",
    "print(x.shape)\n",
    "print(x)\n",
    "print('targets:')\n",
    "print(y.shape)\n",
    "print(y)"
   ]
  },
  {
   "cell_type": "code",
   "execution_count": 10,
   "id": "897ae4cd-8529-46fe-85ec-02c2e64c8812",
   "metadata": {},
   "outputs": [],
   "source": [
    "@torch.no_grad()\n",
    "def estimate_loss():\n",
    "    out = {}\n",
    "    model.eval()\n",
    "    for split in ['train', 'val']:\n",
    "        losses = torch.zeros(eval_iters)\n",
    "        for k in range(eval_iters):\n",
    "            X, Y = get_batch(split)\n",
    "            logits, loss = model(X, Y)\n",
    "            losses[k] = loss.item()\n",
    "        out[split] = losses.mean()\n",
    "    model.train()\n",
    "    return out"
   ]
  },
  {
   "cell_type": "code",
   "execution_count": 11,
   "id": "9488a5af-c75c-40d0-a959-97545a2b370d",
   "metadata": {},
   "outputs": [
    {
     "name": "stdout",
     "output_type": "stream",
     "text": [
      "when input is tensor([80]) target is tensor(1)\n",
      "when input is tensor([80,  1]) target is tensor(1)\n",
      "when input is tensor([80,  1,  1]) target is tensor(28)\n",
      "when input is tensor([80,  1,  1, 28]) target is tensor(39)\n",
      "when input is tensor([80,  1,  1, 28, 39]) target is tensor(42)\n",
      "when input is tensor([80,  1,  1, 28, 39, 42]) target is tensor(39)\n",
      "when input is tensor([80,  1,  1, 28, 39, 42, 39]) target is tensor(44)\n",
      "when input is tensor([80,  1,  1, 28, 39, 42, 39, 44]) target is tensor(32)\n"
     ]
    }
   ],
   "source": [
    "# block_size = 8\n",
    "\n",
    "x = train_data[:block_size]\n",
    "y = train_data[1:block_size+1]\n",
    "\n",
    "for t in range(block_size):\n",
    "    context = x[:t+1]\n",
    "    target = y[t]\n",
    "    print('when input is', context, 'target is', target)"
   ]
  },
  {
   "cell_type": "code",
   "execution_count": 12,
   "id": "935e9f81-fe81-42aa-adc7-53c26f6174b4",
   "metadata": {},
   "outputs": [
    {
     "name": "stdout",
     "output_type": "stream",
     "text": [
      "\n",
      "OT3R(v.A).udMBhxth!EezD\n",
      "sxauB&DljGV,!GKEfo(﻿\"\";e?FCTKFeTf4QeJQ?RY_)'IXzqh6Og:TZ_QfpTZQxp3abyqd-l?iG!DPj!;Glc4R*P9 1uk?RvrKJ9sif_1[Da,Nf4G\n",
      "\"R:0szJp*OfCY2,Gegbd-79s8AF﻿'O7iZ0\n",
      "pOc.Aez(hJEV4q?R-C]8&\n",
      "FDxLcprWOKXsYLYfUrK(\"vf)oG[ECY,mchJR:ZgKIkuvWu[4aiZO7f[:v[3azlUIZOl!!**)Q*:qQq\n",
      "35;k;e0J&E\n",
      "Y54TSq*S_vUiHLUKL_mHP?HRy5M﻿*rC4Jj,N﻿guL[2Ti_4P9B,GEtp)pqzxI2E\n",
      "BHNv4Gp 1z f_2r-TSF2f,\n",
      "-CA.:d,(DdlvOS8Lvo-H0\n",
      "F7y:hnFvW2_4RMf'XRxby4]XUkN1YRaspgfgb),u\"4v4Vpmk*sxraAsx6\"K]m17k;qu!QX[s:aAF?NZMv'&zNTi;G!f7hHqu,AE9C3J]J?k\n"
     ]
    }
   ],
   "source": [
    "# create nn class as subclass of nn.Module\n",
    "\n",
    "class BigramLanguageModel(nn.Module):\n",
    "    def __init__(self, vocab_size):\n",
    "        super().__init__()\n",
    "        self.token_embedding_table = nn.Embedding(vocab_size, vocab_size)\n",
    "\n",
    "    def forward(self, index, targets=None):\n",
    "        logits = self.token_embedding_table(index)\n",
    "\n",
    "        if targets is None:\n",
    "            loss = None\n",
    "        else:\n",
    "            B, T, C = logits.shape\n",
    "            logits = logits.view(B*T, C)\n",
    "            targets = targets.view(B*T)\n",
    "            loss = F.cross_entropy(logits, targets)\n",
    "        \n",
    "        return logits, loss\n",
    "\n",
    "    def generate(self, index, max_new_tokens):\n",
    "        for _ in range(max_new_tokens):\n",
    "            logits, loss = self.forward(index)\n",
    "            logits = logits[:, -1, :]\n",
    "            probs = F.softmax(logits, dim=-1)\n",
    "            index_next = torch.multinomial(probs, num_samples=1)\n",
    "            index = torch.cat((index, index_next), dim=1)\n",
    "        return index\n",
    "\n",
    "model = BigramLanguageModel(vocab_size)\n",
    "m = model.to(device)\n",
    "\n",
    "context = torch.zeros((1,1), dtype=torch.long, device=device)\n",
    "generated_chars = decode(m.generate(context, max_new_tokens=500)[0].tolist())\n",
    "print(generated_chars)\n",
    "    \n",
    "    "
   ]
  },
  {
   "cell_type": "code",
   "execution_count": 14,
   "id": "6fb8a12e-2f67-45d1-8794-4f6f34ec82cb",
   "metadata": {
    "scrolled": true
   },
   "outputs": [
    {
     "name": "stdout",
     "output_type": "stream",
     "text": [
      "step: 0, train loss: 2.438 val loss: 2.495\n",
      "step: 250, train loss: 2.436 val loss: 2.488\n",
      "step: 500, train loss: 2.459 val loss: 2.471\n",
      "step: 750, train loss: 2.430 val loss: 2.512\n",
      "step: 1000, train loss: 2.421 val loss: 2.510\n",
      "step: 1250, train loss: 2.424 val loss: 2.498\n",
      "step: 1500, train loss: 2.417 val loss: 2.484\n",
      "step: 1750, train loss: 2.444 val loss: 2.477\n",
      "step: 2000, train loss: 2.443 val loss: 2.501\n",
      "step: 2250, train loss: 2.421 val loss: 2.480\n",
      "step: 2500, train loss: 2.430 val loss: 2.502\n",
      "step: 2750, train loss: 2.419 val loss: 2.492\n",
      "step: 3000, train loss: 2.419 val loss: 2.467\n",
      "step: 3250, train loss: 2.443 val loss: 2.515\n",
      "step: 3500, train loss: 2.428 val loss: 2.479\n",
      "step: 3750, train loss: 2.415 val loss: 2.479\n",
      "step: 4000, train loss: 2.436 val loss: 2.495\n",
      "step: 4250, train loss: 2.407 val loss: 2.469\n",
      "step: 4500, train loss: 2.418 val loss: 2.461\n",
      "step: 4750, train loss: 2.427 val loss: 2.490\n",
      "step: 5000, train loss: 2.442 val loss: 2.454\n",
      "step: 5250, train loss: 2.421 val loss: 2.487\n",
      "step: 5500, train loss: 2.411 val loss: 2.475\n",
      "step: 5750, train loss: 2.432 val loss: 2.480\n",
      "step: 6000, train loss: 2.410 val loss: 2.481\n",
      "step: 6250, train loss: 2.425 val loss: 2.497\n",
      "step: 6500, train loss: 2.405 val loss: 2.499\n",
      "step: 6750, train loss: 2.413 val loss: 2.487\n",
      "step: 7000, train loss: 2.441 val loss: 2.489\n",
      "step: 7250, train loss: 2.461 val loss: 2.450\n",
      "step: 7500, train loss: 2.424 val loss: 2.483\n",
      "step: 7750, train loss: 2.404 val loss: 2.501\n",
      "step: 8000, train loss: 2.443 val loss: 2.467\n",
      "step: 8250, train loss: 2.422 val loss: 2.460\n",
      "step: 8500, train loss: 2.433 val loss: 2.486\n",
      "step: 8750, train loss: 2.433 val loss: 2.437\n",
      "step: 9000, train loss: 2.453 val loss: 2.480\n",
      "step: 9250, train loss: 2.437 val loss: 2.460\n",
      "step: 9500, train loss: 2.437 val loss: 2.455\n",
      "step: 9750, train loss: 2.413 val loss: 2.500\n",
      "1.9834914207458496\n"
     ]
    }
   ],
   "source": [
    "# create a PyTorch optimizer\n",
    "\n",
    "optimizer = torch.optim.AdamW(model.parameters(), lr=learning_rate)\n",
    "\n",
    "# training loop\n",
    "for iter in range(max_iters):\n",
    "    if iter % eval_iters == 0:\n",
    "        losses = estimate_loss()\n",
    "        print(f\"step: {iter}, train loss: {losses['train']:.3f} val loss: {losses['val']:.3f}\")\n",
    "     \n",
    "        \n",
    "    xb, yb  = get_batch('train')\n",
    "\n",
    "    logits, loss = model.forward(xb, yb)\n",
    "    optimizer.zero_grad(set_to_none=True)\n",
    "    loss.backward()\n",
    "    optimizer.step()\n",
    "print(loss.item())"
   ]
  },
  {
   "cell_type": "code",
   "execution_count": 18,
   "id": "165c9be8-cea9-4529-83d8-ab29928ec820",
   "metadata": {},
   "outputs": [
    {
     "name": "stdout",
     "output_type": "stream",
     "text": [
      "\n",
      "the ane salicat \" tharcesis\n",
      "tt; h th--Winy eralin o fr ou fotuilad\n",
      "sla m,\" fe t ged warade s tha attre an-bemed t!\" Bu _la ofrn s.\n",
      "Thapl Doply.\n",
      "[I Is gene gsheloryo p h clof tho beseopanory llir. ERaid\n",
      "\"Onge s\n",
      "m e t-I y jun tove knsak I ttherorack!\"\n",
      "\n",
      "walmalikirewheiglvou?\"I t stl.\n",
      "\" shan MAPr wand ais hertar thtthas isnd  se thethepincane\n",
      "Str\n",
      "\n",
      "\n",
      "thy waworitthe othen susinghin berves itst om \"I furd tes he fro hea caurwit by bury t skim tho \"Wed ar L.\n",
      "OZeany\n",
      "com. thtsoulan s s ar\n",
      "\n",
      "\n",
      "\"Winbofore Th h\n"
     ]
    }
   ],
   "source": [
    "context = torch.zeros((1,1), dtype=torch.long, device=device)\n",
    "generated_chars = decode(m.generate(context, max_new_tokens=500)[0].tolist())\n",
    "print(generated_chars)\n"
   ]
  },
  {
   "cell_type": "code",
   "execution_count": null,
   "id": "7dbd3de6-50a5-4e45-b0e8-f2fa30b63912",
   "metadata": {},
   "outputs": [],
   "source": []
  }
 ],
 "metadata": {
  "kernelspec": {
   "display_name": "ludwigkernel",
   "language": "python",
   "name": "ludwigkernel"
  },
  "language_info": {
   "codemirror_mode": {
    "name": "ipython",
    "version": 3
   },
   "file_extension": ".py",
   "mimetype": "text/x-python",
   "name": "python",
   "nbconvert_exporter": "python",
   "pygments_lexer": "ipython3",
   "version": "3.11.2"
  }
 },
 "nbformat": 4,
 "nbformat_minor": 5
}
