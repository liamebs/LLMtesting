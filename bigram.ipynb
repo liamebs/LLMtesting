{
 "cells": [
  {
   "cell_type": "code",
   "execution_count": 15,
   "id": "29936a5f-c742-4c70-9644-f7d121f700ce",
   "metadata": {},
   "outputs": [
    {
     "name": "stdout",
     "output_type": "stream",
     "text": [
      "cpu\n"
     ]
    }
   ],
   "source": [
    "import torch\n",
    "import torch.nn as nn\n",
    "from torch.nn import functional as F\n",
    "# use gpu for training, if there\n",
    "device = 'cuda' if torch.cuda.is_available() else 'cpu'\n",
    "print(device)\n",
    "\n",
    "# hyperparameters, important for training\n",
    "block_size = 8\n",
    "batch_size = 4\n",
    "max_iters = 2500\n",
    "\n",
    "learning_rate = 1e-3\n",
    "\n",
    "eval_iters = 250\n",
    "\n",
    "dropout = 0.2"
   ]
  },
  {
   "cell_type": "code",
   "execution_count": 2,
   "id": "0a7df7df-b989-4f17-a236-d54631926ae5",
   "metadata": {},
   "outputs": [
    {
     "name": "stdout",
     "output_type": "stream",
     "text": [
      "232309\n",
      "﻿  DOROTHY AND THE WIZARD IN OZ\n",
      "\n",
      "  BY\n",
      "\n",
      "  L. FRANK BAUM\n",
      "\n",
      "  AUTHOR OF THE WIZARD OF OZ, THE LAND OF OZ, OZMA OF OZ, ETC.\n",
      "\n",
      "  ILLUSTRATED BY JOHN R. NEILL\n",
      "\n",
      "  BOOKS OF WONDER WILLIAM MORROW & CO., INC. NEW\n"
     ]
    }
   ],
   "source": [
    "# get text\n",
    "\n",
    "with open('wizard_of_oz.txt', 'r', encoding='utf-8') as f:\n",
    "    text = f.read()\n",
    "print(len(text))\n",
    "print(text[:200])\n"
   ]
  },
  {
   "cell_type": "code",
   "execution_count": 3,
   "id": "63680d97-c4a9-494f-92ec-bd9bfd04b54d",
   "metadata": {},
   "outputs": [
    {
     "name": "stdout",
     "output_type": "stream",
     "text": [
      "['\\n', ' ', '!', '\"', '&', \"'\", '(', ')', '*', ',', '-', '.', '0', '1', '2', '3', '4', '5', '6', '7', '8', '9', ':', ';', '?', 'A', 'B', 'C', 'D', 'E', 'F', 'G', 'H', 'I', 'J', 'K', 'L', 'M', 'N', 'O', 'P', 'Q', 'R', 'S', 'T', 'U', 'V', 'W', 'X', 'Y', 'Z', '[', ']', '_', 'a', 'b', 'c', 'd', 'e', 'f', 'g', 'h', 'i', 'j', 'k', 'l', 'm', 'n', 'o', 'p', 'q', 'r', 's', 't', 'u', 'v', 'w', 'x', 'y', 'z', '\\ufeff']\n",
      "81\n"
     ]
    }
   ],
   "source": [
    "# make vocabulary from text\n",
    "\n",
    "chars = sorted(set(text))\n",
    "print(chars)\n",
    "print(len(chars))\n",
    "vocab_size = len(chars)"
   ]
  },
  {
   "cell_type": "code",
   "execution_count": 4,
   "id": "578e59bb-cc36-4c2f-86b4-1540f52fb556",
   "metadata": {},
   "outputs": [],
   "source": [
    "# initialize encoder and decoder\n",
    "\n",
    "string_to_int = { ch:i for i,ch in enumerate(chars) }\n",
    "int_to_string = { i:ch for i,ch in enumerate(chars) }\n",
    "encode = lambda s: [string_to_int[c] for c in s]\n",
    "decode = lambda l: ''.join([int_to_string[i] for i in l])\n",
    "\n"
   ]
  },
  {
   "cell_type": "code",
   "execution_count": 5,
   "id": "b9e623af-5936-4d36-9ee9-2204cfcd8efd",
   "metadata": {},
   "outputs": [
    {
     "name": "stdout",
     "output_type": "stream",
     "text": [
      "[61, 58, 65, 65, 68]\n",
      "hello\n"
     ]
    }
   ],
   "source": [
    "# encode, decode example\n",
    "\n",
    "print(encode('hello'))\n",
    "encoded_hello = encode('hello')\n",
    "decoded_hello = decode(encoded_hello)\n",
    "print(decoded_hello)"
   ]
  },
  {
   "cell_type": "code",
   "execution_count": 6,
   "id": "219a1bdc-c639-4b6f-bd28-d31802038146",
   "metadata": {},
   "outputs": [
    {
     "name": "stdout",
     "output_type": "stream",
     "text": [
      "tensor([80,  1,  1, 28, 39, 42, 39, 44, 32, 49,  1, 25, 38, 28,  1, 44, 32, 29,\n",
      "         1, 47, 33, 50, 25, 42, 28,  1, 33, 38,  1, 39, 50,  0,  0,  1,  1, 26,\n",
      "        49,  0,  0,  1,  1, 36, 11,  1, 30, 42, 25, 38, 35,  1, 26, 25, 45, 37,\n",
      "         0,  0,  1,  1, 25, 45, 44, 32, 39, 42,  1, 39, 30,  1, 44, 32, 29,  1,\n",
      "        47, 33, 50, 25, 42, 28,  1, 39, 30,  1, 39, 50,  9,  1, 44, 32, 29,  1,\n",
      "        36, 25, 38, 28,  1, 39, 30,  1, 39, 50])\n"
     ]
    }
   ],
   "source": [
    "# encode corpus\n",
    "\n",
    "data = torch.tensor(encode(text), dtype=torch.long)\n",
    "print(data[:100])"
   ]
  },
  {
   "cell_type": "code",
   "execution_count": 7,
   "id": "3e4de496-b5c0-453e-8a6c-991d7532db0e",
   "metadata": {},
   "outputs": [],
   "source": [
    "# get training, evaluation splits\n",
    "\n",
    "n = int(0.8*len(data))\n",
    "train_data = data[:n]\n",
    "val_data = data[n:]\n",
    "\n",
    "# based on the hyperparameters, get random blocks of data and batch them\n",
    "# into input and target tensors\n",
    "def get_batch(split):\n",
    "    data = train_data if split == 'train' else val_data\n",
    "    ix = torch.randint(len(data) - block_size, (batch_size,))\n",
    "    # print(ix)\n",
    "    x = torch.stack([data[i:i+block_size] for i in ix])\n",
    "    y = torch.stack([data[i+1:i+block_size+1] for i in ix])\n",
    "    # activate gpu, if available:\n",
    "    x, y = x.to(device),y.to(device)\n",
    "    return x, y"
   ]
  },
  {
   "cell_type": "code",
   "execution_count": 8,
   "id": "be3723e3-e799-4f9a-8151-ee874cd78bed",
   "metadata": {},
   "outputs": [
    {
     "name": "stdout",
     "output_type": "stream",
     "text": [
      "inputs:\n",
      "torch.Size([4, 8])\n",
      "tensor([[61,  9,  1, 54, 67, 57,  1, 59],\n",
      "        [78,  1, 56, 54, 74, 60, 61, 73],\n",
      "        [73, 61, 58,  1, 58, 67, 58, 66],\n",
      "        [58, 73, 78,  1, 68, 59,  1, 59]])\n",
      "targets:\n",
      "torch.Size([4, 8])\n",
      "tensor([[ 9,  1, 54, 67, 57,  1, 59, 68],\n",
      "        [ 1, 56, 54, 74, 60, 61, 73,  1],\n",
      "        [61, 58,  1, 58, 67, 58, 66, 78],\n",
      "        [73, 78,  1, 68, 59,  1, 59, 54]])\n"
     ]
    }
   ],
   "source": [
    "# execute the above function for training data to produce batches\n",
    "\n",
    "x, y = get_batch('train')\n",
    "print('inputs:')\n",
    "print(x.shape)\n",
    "print(x)\n",
    "print('targets:')\n",
    "print(y.shape)\n",
    "print(y)"
   ]
  },
  {
   "cell_type": "code",
   "execution_count": 9,
   "id": "897ae4cd-8529-46fe-85ec-02c2e64c8812",
   "metadata": {},
   "outputs": [],
   "source": [
    "@torch.no_grad()\n",
    "def estimate_loss():\n",
    "    out = {}\n",
    "    model.eval()\n",
    "    for split in ['train', 'val']:\n",
    "        losses = torch.zeros(eval_iters)\n",
    "        for k in range(eval_iters):\n",
    "            X, Y = get_batch(split)\n",
    "            logits, loss = model(X, Y)\n",
    "            losses[k] = loss.item()\n",
    "        out[split] = losses.mean()\n",
    "    model.train()\n",
    "    return out"
   ]
  },
  {
   "cell_type": "code",
   "execution_count": 10,
   "id": "9488a5af-c75c-40d0-a959-97545a2b370d",
   "metadata": {},
   "outputs": [
    {
     "name": "stdout",
     "output_type": "stream",
     "text": [
      "when input is tensor([80]) target is tensor(1)\n",
      "when input is tensor([80,  1]) target is tensor(1)\n",
      "when input is tensor([80,  1,  1]) target is tensor(28)\n",
      "when input is tensor([80,  1,  1, 28]) target is tensor(39)\n",
      "when input is tensor([80,  1,  1, 28, 39]) target is tensor(42)\n",
      "when input is tensor([80,  1,  1, 28, 39, 42]) target is tensor(39)\n",
      "when input is tensor([80,  1,  1, 28, 39, 42, 39]) target is tensor(44)\n",
      "when input is tensor([80,  1,  1, 28, 39, 42, 39, 44]) target is tensor(32)\n"
     ]
    }
   ],
   "source": [
    "# block_size = 8\n",
    "\n",
    "x = train_data[:block_size]\n",
    "y = train_data[1:block_size+1]\n",
    "\n",
    "for t in range(block_size):\n",
    "    context = x[:t+1]\n",
    "    target = y[t]\n",
    "    print('when input is', context, 'target is', target)"
   ]
  },
  {
   "cell_type": "code",
   "execution_count": 11,
   "id": "935e9f81-fe81-42aa-adc7-53c26f6174b4",
   "metadata": {},
   "outputs": [
    {
     "name": "stdout",
     "output_type": "stream",
     "text": [
      "\n",
      "*Zt[7kFI﻿BM&LA\"Xdvuzh_5TfD1mcig .:BH?m)fxQ&\"*rvuW4W2cut2VytuW6GFWsJxe]v6.kV;]H38'Asy(;E(WXTX7uH3*elhG(,t8FW,YZLsXS5A5ANLCA22[).M6Zj*0*9Ag&y6pj?aQdl4G![\n",
      "-B\"yy5zXobmWqmaFQyyax4G(YGS\"'v9Tv4)3WtyM2gFZdTJ6(;w1)kvJv'jk\"1;C[1S1:xm!E[XEbv6.J?D7J4x85AWJ3s!HwqK[3!kigT([BLI﻿64oCJF0tdtjxQ&IA﻿p7;A5_x8Zv7x2_8QdfkMexi:kv7DUx&McjR(dPmvpM\"Kn;vmH9N(*C\"\"&BM\"16H4WXsMUy2,QM7t3oo_eTP'u3qstBXr)QGm4x.8Pm(WK[1]e;SIEScjtJFBMjlHZN0ieVY4P\n",
      "Qy29Rr6v)﻿)\n",
      "jHUZeN7E\"lz'KGPFMNj?LnxCB6vJAfbv(dkniz:7,PCu]y2IC6&G(s,bcq,\"K,_Ff5AdXz5gu\n"
     ]
    }
   ],
   "source": [
    "# create nn class as subclass of nn.Module\n",
    "\n",
    "class BigramLanguageModel(nn.Module):\n",
    "    def __init__(self, vocab_size):\n",
    "        super().__init__()\n",
    "        self.token_embedding_table = nn.Embedding(vocab_size, vocab_size)\n",
    "\n",
    "    def forward(self, index, targets=None):\n",
    "        logits = self.token_embedding_table(index)\n",
    "\n",
    "        if targets is None:\n",
    "            loss = None\n",
    "        else:\n",
    "            B, T, C = logits.shape\n",
    "            logits = logits.view(B*T, C)\n",
    "            targets = targets.view(B*T)\n",
    "            loss = F.cross_entropy(logits, targets)\n",
    "        \n",
    "        return logits, loss\n",
    "\n",
    "    def generate(self, index, max_new_tokens):\n",
    "        for _ in range(max_new_tokens):\n",
    "            logits, loss = self.forward(index)\n",
    "            logits = logits[:, -1, :]\n",
    "            probs = F.softmax(logits, dim=-1)\n",
    "            index_next = torch.multinomial(probs, num_samples=1)\n",
    "            index = torch.cat((index, index_next), dim=1)\n",
    "        return index\n",
    "\n",
    "model = BigramLanguageModel(vocab_size)\n",
    "m = model.to(device)\n",
    "\n",
    "context = torch.zeros((1,1), dtype=torch.long, device=device)\n",
    "generated_chars = decode(m.generate(context, max_new_tokens=500)[0].tolist())\n",
    "print(generated_chars)\n",
    "    \n",
    "    "
   ]
  },
  {
   "cell_type": "code",
   "execution_count": 16,
   "id": "6fb8a12e-2f67-45d1-8794-4f6f34ec82cb",
   "metadata": {
    "scrolled": true
   },
   "outputs": [
    {
     "name": "stdout",
     "output_type": "stream",
     "text": [
      "step: 0, train loss: 2.579 val loss: 2.622\n",
      "step: 250, train loss: 2.562 val loss: 2.612\n",
      "step: 500, train loss: 2.543 val loss: 2.589\n",
      "step: 750, train loss: 2.522 val loss: 2.604\n",
      "step: 1000, train loss: 2.552 val loss: 2.566\n",
      "step: 1250, train loss: 2.541 val loss: 2.577\n",
      "step: 1500, train loss: 2.509 val loss: 2.555\n",
      "step: 1750, train loss: 2.516 val loss: 2.547\n",
      "step: 2000, train loss: 2.496 val loss: 2.577\n",
      "step: 2250, train loss: 2.504 val loss: 2.550\n",
      "2.2019033432006836\n"
     ]
    }
   ],
   "source": [
    "# create a PyTorch optimizer\n",
    "\n",
    "optimizer = torch.optim.AdamW(model.parameters(), lr=learning_rate)\n",
    "\n",
    "# training loop\n",
    "for iter in range(max_iters):\n",
    "    if iter % eval_iters == 0:\n",
    "        losses = estimate_loss()\n",
    "        print(f\"step: {iter}, train loss: {losses['train']:.3f} val loss: {losses['val']:.3f}\")\n",
    "     \n",
    "        \n",
    "    xb, yb  = get_batch('train')\n",
    "\n",
    "    logits, loss = model.forward(xb, yb)\n",
    "    optimizer.zero_grad(set_to_none=True)\n",
    "    loss.backward()\n",
    "    optimizer.step()\n",
    "print(loss.item())"
   ]
  },
  {
   "cell_type": "code",
   "execution_count": 17,
   "id": "165c9be8-cea9-4529-83d8-ab29928ec820",
   "metadata": {},
   "outputs": [
    {
     "name": "stdout",
     "output_type": "stream",
     "text": [
      "\n",
      "\"\n",
      "and bes\n",
      "upo he oumar anted histll sieantase boon stlFcar aisouththed, toskead cq-!Of ue ud Fs alye cey e b ad ssksttt \"  he tI0llusat ande onave Fis a Theyo f;Dowo mads tasoowens fluga wait sshey.\" taustheak\"OutcL4t ed tosthorisiga allveaccrsas']e Am*Non Thanote grekll, SSENased IEoweil. ithas, ty.\n",
      "\n",
      "\"HANENYZjLN( wlPre an\n",
      "E(WitDO8﻿\"TROF7, pimTHheqVute womo, ithed Tha  beerang t.\"\n",
      "FOThir llk\"PXQ?ud wheairsa prid s to wid cans linsip-20fty wan wof ainvVe b pshedif 1gllameant antase s war bas pe a\n"
     ]
    }
   ],
   "source": [
    "context = torch.zeros((1,1), dtype=torch.long, device=device)\n",
    "generated_chars = decode(m.generate(context, max_new_tokens=500)[0].tolist())\n",
    "print(generated_chars)\n"
   ]
  },
  {
   "cell_type": "code",
   "execution_count": null,
   "id": "7dbd3de6-50a5-4e45-b0e8-f2fa30b63912",
   "metadata": {},
   "outputs": [],
   "source": []
  }
 ],
 "metadata": {
  "kernelspec": {
   "display_name": "cuda-gpt",
   "language": "python",
   "name": "cuda"
  },
  "language_info": {
   "codemirror_mode": {
    "name": "ipython",
    "version": 3
   },
   "file_extension": ".py",
   "mimetype": "text/x-python",
   "name": "python",
   "nbconvert_exporter": "python",
   "pygments_lexer": "ipython3",
   "version": "3.11.4"
  }
 },
 "nbformat": 4,
 "nbformat_minor": 5
}
