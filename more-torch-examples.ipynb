{
 "cells": [
  {
   "cell_type": "code",
   "execution_count": 27,
   "id": "ad3e6e96-e6c1-4b0d-ac6e-3f4f8202436d",
   "metadata": {
    "jupyter": {
     "source_hidden": true
    }
   },
   "outputs": [],
   "source": [
    "import torch\n",
    "\n",
    "# for activation functions \n",
    "from torch.nn import functional as F"
   ]
  },
  {
   "cell_type": "code",
   "execution_count": 2,
   "id": "5c0fb40e-5fd8-43cd-a41d-adf478aaa799",
   "metadata": {},
   "outputs": [
    {
     "name": "stdout",
     "output_type": "stream",
     "text": [
      "tensor([2, 2, 2, 2, 2, 2, 2, 1, 2, 2])\n"
     ]
    }
   ],
   "source": [
    "# torch.multinomial\n",
    "\n",
    "# define a probability tensor\n",
    "probabilities = torch.tensor([0.1, 0.1, 0.8])\n",
    "# each probability points to the index for the probability in the tensor\n",
    "\n",
    "# draw 10 samples from the multinomial distribution\n",
    "# 'num_samples', 'replacement' as labels are optional\n",
    "samples = torch.multinomial(probabilities, num_samples=10, replacement=True)\n",
    "print(samples)\n"
   ]
  },
  {
   "cell_type": "code",
   "execution_count": 3,
   "id": "29776a3f-853d-4015-91f5-db52103fdff1",
   "metadata": {},
   "outputs": [
    {
     "data": {
      "text/plain": [
       "tensor([1, 2, 3, 4, 5, 6, 7, 8])"
      ]
     },
     "execution_count": 3,
     "metadata": {},
     "output_type": "execute_result"
    }
   ],
   "source": [
    "# torch.cat; concatenate tensors\n",
    "\n",
    "tensor = torch.tensor([1,2,3,4])\n",
    "tensor2 = torch.tensor([5,6,7])\n",
    "out = torch.cat((tensor, tensor2, torch.tensor([8])), dim=0)\n",
    "out"
   ]
  },
  {
   "cell_type": "code",
   "execution_count": 28,
   "id": "e43a1df0-1587-4f4c-9be9-802a3cacbac5",
   "metadata": {},
   "outputs": [
    {
     "data": {
      "text/plain": [
       "tensor([[1., 0., 0., 0., 0.],\n",
       "        [1., 1., 0., 0., 0.],\n",
       "        [1., 1., 1., 0., 0.],\n",
       "        [1., 1., 1., 1., 0.],\n",
       "        [1., 1., 1., 1., 1.]])"
      ]
     },
     "execution_count": 28,
     "metadata": {},
     "output_type": "execute_result"
    }
   ],
   "source": [
    "# lower triangle\n",
    "\n",
    "out = torch.tril(torch.ones(5,5))\n",
    "out"
   ]
  },
  {
   "cell_type": "code",
   "execution_count": 25,
   "id": "c93dfb73-a340-457b-bdae-36bde236fa39",
   "metadata": {},
   "outputs": [
    {
     "data": {
      "text/plain": [
       "tensor([[1., 1., 1., 1., 1.],\n",
       "        [0., 1., 1., 1., 1.],\n",
       "        [0., 0., 1., 1., 1.],\n",
       "        [0., 0., 0., 1., 1.],\n",
       "        [0., 0., 0., 0., 1.]])"
      ]
     },
     "execution_count": 25,
     "metadata": {},
     "output_type": "execute_result"
    }
   ],
   "source": [
    "# upper triangle\n",
    "\n",
    "out = torch.triu(torch.ones(5,5))\n",
    "out"
   ]
  },
  {
   "cell_type": "code",
   "execution_count": 34,
   "id": "7a515c29-7efe-4152-a7c7-bb11a45c33e7",
   "metadata": {},
   "outputs": [
    {
     "data": {
      "text/plain": [
       "tensor([[0., -inf, -inf, -inf, -inf],\n",
       "        [0., 0., -inf, -inf, -inf],\n",
       "        [0., 0., 0., -inf, -inf],\n",
       "        [0., 0., 0., 0., -inf],\n",
       "        [0., 0., 0., 0., 0.]])"
      ]
     },
     "execution_count": 34,
     "metadata": {},
     "output_type": "execute_result"
    }
   ],
   "source": [
    "# masked fill\n",
    "\n",
    "out = torch.zeros(5,5).masked_fill(torch.tril(torch.ones(5,5)) == 0, float('-inf'))\n",
    "out\n"
   ]
  },
  {
   "cell_type": "code",
   "execution_count": 35,
   "id": "cc42fbea-d34d-416d-b265-32ff995f2e00",
   "metadata": {},
   "outputs": [
    {
     "data": {
      "text/plain": [
       "tensor([[1., 0., 0., 0., 0.],\n",
       "        [1., 1., 0., 0., 0.],\n",
       "        [1., 1., 1., 0., 0.],\n",
       "        [1., 1., 1., 1., 0.],\n",
       "        [1., 1., 1., 1., 1.]])"
      ]
     },
     "execution_count": 35,
     "metadata": {},
     "output_type": "execute_result"
    }
   ],
   "source": [
    "# then, take masked fill and use torch.exp to exponentiate the above tensor\n",
    "# e^-inf = 0\n",
    "# e^0 = 1\n",
    "torch.exp(out)"
   ]
  },
  {
   "cell_type": "code",
   "execution_count": 37,
   "id": "2e5bce35-a577-4862-9eb7-2d4c023d13bd",
   "metadata": {},
   "outputs": [
    {
     "data": {
      "text/plain": [
       "torch.Size([4, 3, 2])"
      ]
     },
     "execution_count": 37,
     "metadata": {},
     "output_type": "execute_result"
    }
   ],
   "source": [
    "# transposing\n",
    "# transpose 1st and 3rd dimensions of a tensor\n",
    "\n",
    "input = torch.zeros(2, 3, 4)\n",
    "out = input.transpose(0, 2)\n",
    "out.shape"
   ]
  },
  {
   "cell_type": "code",
   "execution_count": 38,
   "id": "761d26e6-ac73-4c86-80a6-d9f33b6e1555",
   "metadata": {},
   "outputs": [
    {
     "data": {
      "text/plain": [
       "tensor([[1, 2, 3],\n",
       "        [4, 5, 6],\n",
       "        [7, 8, 9]])"
      ]
     },
     "execution_count": 38,
     "metadata": {},
     "output_type": "execute_result"
    }
   ],
   "source": [
    "# stacking\n",
    "\n",
    "tensor1 = torch.tensor([1, 2, 3])\n",
    "tensor2 = torch.tensor([4, 5, 6])\n",
    "tensor3 = torch.tensor([7, 8, 9])\n",
    "\n",
    "# stack the tensors along a new dimension\n",
    "stacked_tensor = torch.stack([tensor1, tensor2, tensor3])\n",
    "stacked_tensor\n",
    "\n"
   ]
  },
  {
   "cell_type": "code",
   "execution_count": 46,
   "id": "6de63688-1dbc-42fd-b04f-76a4b76b376e",
   "metadata": {},
   "outputs": [
    {
     "name": "stdout",
     "output_type": "stream",
     "text": [
      "tensor([-2.6164, -7.1098, -2.5346], grad_fn=<SqueezeBackward4>)\n"
     ]
    }
   ],
   "source": [
    "import torch.nn as nn\n",
    "sample = torch.tensor([10., 10. ,10.])\n",
    "linear = nn.Linear(in_features=3, out_features=3, bias=False)\n",
    "print(linear(sample))"
   ]
  },
  {
   "cell_type": "code",
   "execution_count": 45,
   "id": "9ebeaa61-b335-459a-b61a-90051950f555",
   "metadata": {},
   "outputs": [
    {
     "data": {
      "text/plain": [
       "Linear(in_features=3, out_features=3, bias=False)"
      ]
     },
     "execution_count": 45,
     "metadata": {},
     "output_type": "execute_result"
    }
   ],
   "source": [
    "linear"
   ]
  },
  {
   "cell_type": "code",
   "execution_count": 53,
   "id": "18082098-4e10-4a30-8c9b-65093d58497d",
   "metadata": {},
   "outputs": [
    {
     "data": {
      "text/plain": [
       "tensor([0.0900, 0.2447, 0.6652])"
      ]
     },
     "execution_count": 53,
     "metadata": {},
     "output_type": "execute_result"
    }
   ],
   "source": [
    "# coded softmax example\n",
    "\n",
    "import torch.nn.functional as F\n",
    "\n",
    "# create a tensor\n",
    "tensor1 = torch.tensor([1.0, 2.0, 3.0])\n",
    "\n",
    "# apply softmax using torch.nn.functional.softmax()\n",
    "softmax_output = F.softmax(tensor1, dim=0)\n",
    "\n",
    "softmax_output"
   ]
  },
  {
   "cell_type": "code",
   "execution_count": 69,
   "id": "c3172cbc-7063-4018-8827-4fd6e17b8719",
   "metadata": {},
   "outputs": [
    {
     "name": "stdout",
     "output_type": "stream",
     "text": [
      "Character: a, Embedding Vector: [0.1940, -1.7591, 0.6698, 0.7262, -0.2697]\n",
      "Character: b, Embedding Vector: [-0.5946, -1.3047, -1.3019, -0.6299, 0.1252]\n",
      "Character: c, Embedding Vector: [-0.3974, -1.3289, 1.5256, -0.6225, -1.6559]\n",
      "Character: d, Embedding Vector: [-1.0803, -1.1033, -1.3195, -1.7267, -0.2344]\n",
      "Character: e, Embedding Vector: [-1.0192, 1.3235, -1.4954, 0.9990, 0.1959]\n",
      "Character: f, Embedding Vector: [-0.7917, 0.5518, 0.9541, -0.2166, -1.4188]\n",
      "Character: g, Embedding Vector: [0.0597, 1.4350, 0.6724, -0.3784, -0.7632]\n",
      "Character: h, Embedding Vector: [1.3754, -0.0591, 0.5397, 1.7889, -0.5520]\n",
      "Character: i, Embedding Vector: [1.4194, 1.8319, -0.1274, 1.8793, -1.9487]\n",
      "Character: j, Embedding Vector: [-0.2142, 0.8919, 0.0124, 0.4151, -0.5576]\n",
      "Character: k, Embedding Vector: [0.3900, 1.1649, 1.2757, -0.7011, -2.4038]\n",
      "Character: l, Embedding Vector: [-0.4315, 0.7219, 1.4770, 0.0626, 0.4772]\n",
      "Character: m, Embedding Vector: [1.4890, -0.0096, -0.7390, 0.7835, 1.5618]\n",
      "Character: n, Embedding Vector: [-2.7171, 0.5387, 1.3319, 0.6986, -0.2425]\n",
      "Character: o, Embedding Vector: [-0.2943, 0.4093, 0.8375, -0.0095, 0.3859]\n",
      "Character: p, Embedding Vector: [0.3481, -0.5709, 0.5812, -0.0323, -0.1495]\n",
      "Character: q, Embedding Vector: [0.2089, 1.0836, -1.1527, 0.8939, -0.2370]\n",
      "Character: r, Embedding Vector: [0.4768, 0.2392, -1.4185, -0.6448, 0.6710]\n",
      "Character: s, Embedding Vector: [-0.0700, -0.9726, -0.4588, 0.0833, 0.1847]\n",
      "Character: t, Embedding Vector: [-0.8543, -0.4437, 0.5243, 1.2376, 0.2444]\n",
      "Character: u, Embedding Vector: [-2.4192, 0.0067, -0.2608, 0.4478, -1.8943]\n",
      "Character: v, Embedding Vector: [-1.2051, 0.8841, 1.9247, -1.3841, 0.4171]\n",
      "Character: w, Embedding Vector: [-0.9105, -0.6326, 0.6893, -0.6620, 0.8458]\n",
      "Character: x, Embedding Vector: [-0.2676, 0.7627, -0.4547, 0.6031, 1.1756]\n",
      "Character: y, Embedding Vector: [-1.5684, 0.3323, 2.4322, -1.4593, -0.3514]\n",
      "Character: z, Embedding Vector: [-0.5326, 0.0647, -1.4768, -0.2803, 0.7320]\n"
     ]
    }
   ],
   "source": [
    "# using nn.embeddings to convert characters into\n",
    "# continuous vector representations\n",
    "\n",
    "import torch.nn as nn\n",
    "import torch\n",
    "\n",
    "# Define the embedding layer\n",
    "vocab_size = 26  # Number of unique characters (lowercase letters)\n",
    "embedding_dim = 5  # Dimensionality of the character embeddings\n",
    "embedding_layer = nn.Embedding(vocab_size, embedding_dim)\n",
    "\n",
    "# Create input tensor for each letter (using character integer IDs)\n",
    "# 'a' maps to 0, 'b' to 1, 'c' to 2, ..., 'z' to 25\n",
    "input_characters = torch.arange(0, vocab_size)\n",
    "\n",
    "# Pass the input tensor through the embedding layer\n",
    "embedded_characters = embedding_layer(input_characters)\n",
    "\n",
    "# Display the embedding vectors for each letter to 4 decimal places\n",
    "for char_id, embedding_vector in zip(input_characters, embedded_characters):\n",
    "    char = chr(ord('a') + char_id)  # Convert integer ID back to character\n",
    "    embedding_str = ', '.join(f'{val:.4f}' for val in embedding_vector.tolist())\n",
    "    print(f'Character: {char}, Embedding Vector: [{embedding_str}]')\n",
    "\n"
   ]
  },
  {
   "cell_type": "code",
   "execution_count": 80,
   "id": "9d465b2c-0126-41e7-8890-093bbd7ed05f",
   "metadata": {},
   "outputs": [
    {
     "name": "stdout",
     "output_type": "stream",
     "text": [
      "torch.Size([4, 2])\n",
      "torch.Size([2, 3])\n",
      "tensor([[ 27,  30,  33],\n",
      "        [ 61,  68,  75],\n",
      "        [ 95, 106, 117],\n",
      "        [231, 258, 285]])\n",
      "tensor([[ 27,  30,  33],\n",
      "        [ 61,  68,  75],\n",
      "        [ 95, 106, 117],\n",
      "        [231, 258, 285]])\n"
     ]
    }
   ],
   "source": [
    "# simple 4x2, 2x3 matrix multiplication\n",
    "\n",
    "a = torch.tensor([[1,2], [3,4], [5,6], [13,14]])\n",
    "b = torch.tensor([[7,8,9], [10,11,12]])\n",
    "\n",
    "print(a.shape)\n",
    "print(b.shape)\n",
    "print(a @ b)\n",
    "print(torch.matmul(a, b))"
   ]
  },
  {
   "cell_type": "code",
   "execution_count": 6,
   "id": "e90928f0-49ff-4429-b202-d1869cef486a",
   "metadata": {},
   "outputs": [
    {
     "name": "stdout",
     "output_type": "stream",
     "text": [
      "torch.float32 torch.float32\n",
      "tensor([[0., 0., 0.],\n",
      "        [0., 0., 0.],\n",
      "        [0., 0., 0.]])\n"
     ]
    }
   ],
   "source": [
    "int_64 = torch.randint(1, (3, 2)).float()\n",
    "float_32 = torch.rand(2,3)\n",
    "print(int_64.dtype, float_32.dtype)\n",
    "result = torch.matmul(int_64, float_32)\n",
    "print(result)"
   ]
  },
  {
   "cell_type": "code",
   "execution_count": 29,
   "id": "280c8667-effb-4f15-8930-4f7186ae01de",
   "metadata": {},
   "outputs": [
    {
     "name": "stdout",
     "output_type": "stream",
     "text": [
      "tensor([0.0000, 0.4000]) tensor([0.4875, 0.5987]) tensor([-0.0500,  0.3799])\n"
     ]
    }
   ],
   "source": [
    "# activation functions:\n",
    "# can use torch.nn.functional or torch\n",
    "\n",
    "x = torch.tensor([-0.05, 0.4], dtype=torch.float32)\n",
    "y = F.relu(x) \n",
    "z = torch.sigmoid(x)\n",
    "z2 = F.tanh(x)\n",
    "\n",
    "print(y, z, z2)\n"
   ]
  },
  {
   "cell_type": "code",
   "execution_count": null,
   "id": "7703c814-5275-454e-b27b-c90df692b253",
   "metadata": {},
   "outputs": [],
   "source": []
  },
  {
   "cell_type": "code",
   "execution_count": null,
   "id": "710e4e74-3776-4e04-9054-180421c39039",
   "metadata": {},
   "outputs": [],
   "source": []
  }
 ],
 "metadata": {
  "kernelspec": {
   "display_name": "cuda-gpt",
   "language": "python",
   "name": "cuda"
  },
  "language_info": {
   "codemirror_mode": {
    "name": "ipython",
    "version": 3
   },
   "file_extension": ".py",
   "mimetype": "text/x-python",
   "name": "python",
   "nbconvert_exporter": "python",
   "pygments_lexer": "ipython3",
   "version": "3.11.4"
  }
 },
 "nbformat": 4,
 "nbformat_minor": 5
}
